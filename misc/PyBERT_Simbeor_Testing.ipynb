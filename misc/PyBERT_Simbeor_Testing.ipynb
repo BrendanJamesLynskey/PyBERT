{
 "cells": [
  {
   "cell_type": "markdown",
   "metadata": {},
   "source": [
    "# PyBERT w/ Simbeor Testing <a name=\"top\"/>"
   ]
  },
  {
   "cell_type": "markdown",
   "metadata": {},
   "source": [
    "Original author: David Banas <capn.freako@gmail.com>  \n",
    "Original date:   October 12, 2019\n",
    "\n",
    "Copyright (c) 2019 David Banas; all rights reserved World wide.\n",
    "\n",
    "This [iPython notebook](http://ipython.org/ipython-doc/3/notebook/notebook.html#introduction) is used to test the new integration of **Simberian's** [_Simbeor_](https://www.simberian.com/) channel solver into [PyBERT](https://github.com/capn-freako/PyBERT/wiki).\n",
    "\n",
    "**Note:** You will need PyBERT installed, in order to run/modify this notebook.\n",
    "(See PyBERT's [Quick Start Instructions](https://github.com/capn-freako/PyBERT/wiki/instant_gratification).)\n"
   ]
  },
  {
   "cell_type": "markdown",
   "metadata": {},
   "source": [
    "## Introduction and Statement of Intent <a name=\"introduction\"/>\n",
    "\n",
    "PyBERT has recently been modified to include the option of using 3rd-party channel solvers, instead of its built-in channel models.\n",
    "The first of these to be integrated/tested is the _Simbeor_ tool from **Simberian, Inc.**.\n",
    "In this notebook, we test the predictions of PyBERT/Simbeor, using several test channels for which we have precise measurement data available.\n",
    "\n",
    "**Note:** You won't need to change the import cell, below, unless you change any code _after_ Sec. 2."
   ]
  },
  {
   "cell_type": "code",
   "execution_count": 1,
   "metadata": {
    "ExecuteTime": {
     "end_time": "2019-10-14T21:09:20.023691Z",
     "start_time": "2019-10-14T21:09:17.691968Z"
    }
   },
   "outputs": [],
   "source": [
    "%matplotlib inline\n",
    "from matplotlib import pyplot as plt\n",
    "\n",
    "import skrf         as rf\n",
    "import numpy        as np\n",
    "import scipy.signal as sig\n",
    "\n",
    "from time       import sleep\n",
    "from pybert     import pybert"
   ]
  },
  {
   "cell_type": "markdown",
   "metadata": {},
   "source": [
    "## Notebook Customization\n",
    "\n",
    "Edit the code block below, to customize this notebook to your interests.\n",
    "\n",
    "**Note:** If you confine your code changes to just the code block below, you won't need to change the import code block, above."
   ]
  },
  {
   "cell_type": "code",
   "execution_count": 2,
   "metadata": {
    "ExecuteTime": {
     "end_time": "2019-10-14T21:09:20.591724Z",
     "start_time": "2019-10-14T21:09:20.026692Z"
    }
   },
   "outputs": [],
   "source": [
    "# Set to your channel reference measurement data file.\n",
    "ref_path = \"C:\\\\Users\\\\dbanas\\\\Documents\\\\GitHub\\\\PyBERT\\\\misc\\\\Simberian\\\\CMP-28_Simbeor_Kit_Rev4\\\\8_StripSingle(1)\\\\Results\\\\SL_SE_2inch_J6J5_SL_SE_2inch_J6J5_TlineOnly_Simulation(1).s2p\"\n",
    "\n",
    "# Instantiate a PyBERT instance.\n",
    "myPyBERT = pybert.PyBERT(run_simulation=False)\n",
    "# And customize it to your needs here.\n",
    "myPyBERT.lic_path   = \"C:\\\\Users\\\\dbanas\\\\Downloads\\\\simbeor_DavidBanas_09152019.lic\"\n",
    "myPyBERT.l_ch       = 0.05             # Channel length (m).\n",
    "myPyBERT.ch_type    = 'stripline_se'   # Choose from: {'microstrip_se', 'microstrip_diff',\n",
    "                                       #               'stripline_se',  'stripline_diff'}.\n",
    "myPyBERT.des_freq   = 1e9              # Channel \"design frequency\" (Hz).\n",
    "myPyBERT.diel_const = 3.8              # Insulator dielectric constant (rel.).\n",
    "myPyBERT.loss_tan   = 0.015            # Insulator loss tangent.\n",
    "myPyBERT.height     = 0.287            # Trace height above(/below) plane (mm).\n",
    "myPyBERT.width      = 0.267            # Trace width (mm).\n",
    "myPyBERT.thickness  = 0.033            # Trace thickness (mm).\n",
    "myPyBERT.separation = 1.27             # Trace separation (mm) (for stripline only).\n",
    "myPyBERT.roughness  = 0.005            # Trace surface roughness (mm).\n"
   ]
  },
  {
   "cell_type": "markdown",
   "metadata": {
    "ExecuteTime": {
     "end_time": "2019-10-13T13:48:58.752742Z",
     "start_time": "2019-10-13T13:48:58.740741Z"
    }
   },
   "source": [
    "## Results\n",
    "\n",
    "**Note:** If you're just using this notebook to run/validate channels, don't change any code below."
   ]
  },
  {
   "cell_type": "markdown",
   "metadata": {
    "ExecuteTime": {
     "end_time": "2019-10-13T15:32:31.182862Z",
     "start_time": "2019-10-13T15:32:31.178862Z"
    }
   },
   "source": [
    "### Run the solve."
   ]
  },
  {
   "cell_type": "code",
   "execution_count": 3,
   "metadata": {
    "ExecuteTime": {
     "end_time": "2019-10-14T21:09:27.788136Z",
     "start_time": "2019-10-14T21:09:20.594724Z"
    }
   },
   "outputs": [
    {
     "name": "stdout",
     "output_type": "stream",
     "text": [
      "Launching solver...\n",
      ".Channel width: 0.267\n",
      "{'Width': 0.00026700000000000004, 'StripShape': 'Trapezoidal', 'EtchFactor': 0.0, 'Clearance': 0.0, 'LayerName': 'TOP'} {'Zo': 49.266642401228715, 'Tp': 6.539466533206014e-09, 'L': 3.2218482520123885e-07, 'C': 1.3273274795836415e-10, 'Att': 4.695362574094242} Forward\n",
      "\n",
      "Solver finished.\n"
     ]
    }
   ],
   "source": [
    "# An indirect way to get a reasonable frequency vector length, for Simbeor.\n",
    "myPyBERT.nspb  = 16\n",
    "myPyBERT.nbits = 2000\n",
    "# Set the PyBERT instance up to use Simbeor.\n",
    "myPyBERT.use_native = False\n",
    "myPyBERT.solver     = \"simbeor\"\n",
    "# Launch solver.\n",
    "print(\"Launching solver...\")\n",
    "myPyBERT._btn_solve_fired()\n",
    "while(myPyBERT.chnl_solve_thread.isAlive()):\n",
    "    print(\".\", end=\"\", flush=True)\n",
    "    sleep(1)\n",
    "print(\"\\nSolver finished.\")"
   ]
  },
  {
   "cell_type": "markdown",
   "metadata": {},
   "source": [
    "### Plot $Z_c$ and $\\gamma$."
   ]
  },
  {
   "cell_type": "code",
   "execution_count": 4,
   "metadata": {
    "ExecuteTime": {
     "end_time": "2019-10-14T21:09:28.745190Z",
     "start_time": "2019-10-14T21:09:27.795136Z"
    }
   },
   "outputs": [
    {
     "data": {
      "image/png": "[encoded data removed]",
      "text/plain": [
       "<Figure size 432x288 with 2 Axes>"
      ]
     },
     "metadata": {
      "needs_background": "light"
     },
     "output_type": "display_data"
    }
   ],
   "source": [
    "f  = myPyBERT.f\n",
    "ix = np.where(f >= 0)\n",
    "\n",
    "fig, ax1 = plt.subplots()\n",
    "\n",
    "color = 'tab:red'\n",
    "ax1.set_xlabel('frequency (Hz)')\n",
    "ax1.set_ylabel(r'Zc ($\\Omega$)', color=color)\n",
    "ax1.semilogx(f[ix], abs(myPyBERT.Zc)[ix], color=color)\n",
    "ax1.tick_params(axis='y', labelcolor=color)\n",
    "\n",
    "ax2 = ax1.twinx()  # instantiate a second axes that shares the same x-axis\n",
    "\n",
    "color = 'tab:blue'\n",
    "ax2.set_ylabel(r'$\\gamma$ (Nep./m)', color=color)  # we already handled the x-label with ax1\n",
    "ax2.semilogx(f[ix], abs(myPyBERT.gamma)[ix], color=color)\n",
    "ax2.tick_params(axis='y', labelcolor=color)\n",
    "\n",
    "fig.tight_layout()  # otherwise the right y-label is slightly clipped\n",
    "plt.title(\"Simbeor Channel Solver Results\")\n",
    "plt.show()"
   ]
  },
  {
   "cell_type": "markdown",
   "metadata": {},
   "source": [
    "### Compare S[2,1] to reference."
   ]
  },
  {
   "cell_type": "code",
   "execution_count": 5,
   "metadata": {
    "ExecuteTime": {
     "end_time": "2019-10-14T21:09:29.332224Z",
     "start_time": "2019-10-14T21:09:28.747190Z"
    }
   },
   "outputs": [
    {
     "data": {
      "image/png": "[encoded data removed]",
      "text/plain": [
       "<Figure size 432x288 with 2 Axes>"
      ]
     },
     "metadata": {
      "needs_background": "light"
     },
     "output_type": "display_data"
    },
    {
     "data": {
      "text/plain": [
       "(None,)"
      ]
     },
     "execution_count": 5,
     "metadata": {},
     "output_type": "execute_result"
    }
   ],
   "source": [
    "fmax   = 40e9\n",
    "ch_len = myPyBERT.l_ch\n",
    "\n",
    "ntwk = rf.Network(ref_path)\n",
    "f_ref  = ntwk.f\n",
    "ix_ref = np.where(f_ref <= fmax)\n",
    "f_dut  = myPyBERT.f\n",
    "ix_dut = np.where((f_dut >= 0) & (f_dut <= fmax))\n",
    "\n",
    "fig, ax1 = plt.subplots()\n",
    "ax1.set_xlabel('Freq. (GHz)')\n",
    "\n",
    "color = 'tab:red'\n",
    "ax1.semilogx(f_ref[ix_ref]/1.e9, 20*np.log10(abs(ntwk.s[:,1,0][ix_ref])), '--',\n",
    "             label=\"Ref.\", color=color)\n",
    "ax1.semilogx(f_dut[ix_dut]/1.e9, 20*np.log10(abs(np.exp(-1. * myPyBERT.gamma[ix_dut] * ch_len))),\n",
    "             label=\"DUT\",  color=color)\n",
    "ax1.legend()\n",
    "ax1.set_ylabel('|S[2,1]| (dBV)', color=color)\n",
    "ax1.tick_params(axis='y', labelcolor=color)\n",
    "\n",
    "ax2 = ax1.twinx()  # instantiate a second axes that shares the same x-axis\n",
    "color = 'tab:blue'\n",
    "ax2.semilogx(f_ref[ix_ref]/1.e9,\n",
    "             np.unwrap(np.angle(ntwk.s[:,1,0][ix_ref]))*180/np.pi, '--',\n",
    "             label=\"Ref.\", color=color)\n",
    "ax2.semilogx(f_dut[ix_dut]/1.e9,\n",
    "             np.unwrap(np.angle(np.exp(-1. * myPyBERT.gamma[ix_dut] * ch_len)))*180/np.pi,\n",
    "             label=\"DUT\",  color=color, )\n",
    "ax2.set_ylabel('Phase(S[2,1]) (deg.)', color=color)\n",
    "ax2.tick_params(axis='y', labelcolor=color)\n",
    "\n",
    "fig.tight_layout()  # otherwise the right y-label is slightly clipped\n",
    "plt.title('PyBERT/Simbeor vs. Reference - S[2,1]')\n",
    "plt.axis(xmin=0.1)\n",
    "plt.show(),"
   ]
  },
  {
   "cell_type": "code",
   "execution_count": null,
   "metadata": {},
   "outputs": [],
   "source": []
  }
 ],
 "metadata": {
  "kernelspec": {
   "display_name": "Python 3",
   "language": "python",
   "name": "python3"
  },
  "language_info": {
   "codemirror_mode": {
    "name": "ipython",
    "version": 3
   },
   "file_extension": ".py",
   "mimetype": "text/x-python",
   "name": "python",
   "nbconvert_exporter": "python",
   "pygments_lexer": "ipython3",
   "version": "3.7.4"
  },
  "latex_envs": {
   "LaTeX_envs_menu_present": true,
   "autoclose": false,
   "autocomplete": true,
   "bibliofile": "biblio.bib",
   "cite_by": "apalike",
   "current_citInitial": 1,
   "eqLabelWithNumbers": true,
   "eqNumInitial": 1,
   "hotkeys": {
    "equation": "Ctrl-E",
    "itemize": "Ctrl-I"
   },
   "labels_anchors": false,
   "latex_user_defs": false,
   "report_style_numbering": false,
   "user_envs_cfg": false
  },
  "toc": {
   "base_numbering": 1,
   "nav_menu": {},
   "number_sections": true,
   "sideBar": true,
   "skip_h1_title": true,
   "title_cell": "Table of Contents",
   "title_sidebar": "Contents",
   "toc_cell": false,
   "toc_position": {
    "height": "calc(100% - 180px)",
    "left": "10px",
    "top": "150px",
    "width": "165px"
   },
   "toc_section_display": true,
   "toc_window_display": true
  }
 },
 "nbformat": 4,
 "nbformat_minor": 1
}
